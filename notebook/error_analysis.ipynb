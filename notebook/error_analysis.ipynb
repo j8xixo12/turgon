{
 "cells": [
  {
   "cell_type": "code",
   "execution_count": 144,
   "metadata": {},
   "outputs": [],
   "source": [
    "%matplotlib inline\n",
    "\n",
    "import numpy as np\n",
    "from matplotlib import pyplot as plt\n",
    "import sys\n",
    "\n",
    "import libst"
   ]
  },
  {
   "cell_type": "code",
   "execution_count": 145,
   "metadata": {},
   "outputs": [],
   "source": [
    "def ExactSolution(svr, iter_num, gfun):\n",
    "    v = np.array([])\n",
    "    for e in svr.selms(odd_plane = False):\n",
    "        x = (e.xctr - iter_num * svr.dt) % svr.grid.xmax  # dealt with boundary treatment\n",
    "        if x < 2 * np.pi or x > 4 * np.pi:\n",
    "            v = np.append(v, 0)\n",
    "        else:\n",
    "            v = np.append(v, gfun(x))\n",
    "    return v"
   ]
  },
  {
   "cell_type": "code",
   "execution_count": 146,
   "metadata": {},
   "outputs": [],
   "source": [
    "def norm(vec, ord = 1):\n",
    "    res = 0;\n",
    "    for ele in vec:\n",
    "        res += abs(ele) ** ord\n",
    "    return res ** (1 / ord)"
   ]
  },
  {
   "cell_type": "code",
   "execution_count": 147,
   "metadata": {},
   "outputs": [],
   "source": [
    "def plot_err(so0, exactSol, order):\n",
    "    plt.figure(figsize=(15,10))\n",
    "    plt.xlabel('Iter')\n",
    "    plt.ylabel('Error L%i-norm' %order)\n",
    "    plt.yscale('log')\n",
    "    plt.title('Error L%i-norm' %order)\n",
    "    plt.grid()\n",
    "    error = np.zeros(len(so0))\n",
    "    for i in range(len(so0)):\n",
    "        error[i] = norm(so0[i] - exactSol[i], order)\n",
    "    plt.plot(range(len(so0)), error, '-')"
   ]
  },
  {
   "cell_type": "code",
   "execution_count": 185,
   "metadata": {},
   "outputs": [],
   "source": [
    "grid = libst.Grid(0, 4 * 2 * np.pi, 400 * 64)\n",
    "cfl = 1\n",
    "dx = (grid.xmax - grid.xmin) / grid.ncelm\n",
    "dt = dx * cfl\n",
    "svr = libst.LinearScalarSolver(grid = grid, time_increment = dt)\n",
    "\n",
    "Num = 100000\n",
    "exact_sol = []\n",
    "so0_sol = []\n",
    "iterNum = range(Num + 1)\n",
    "\n",
    "# Initialize\n",
    "for e in svr.selms(odd_plane = False):\n",
    "    if e.xctr < 2 * np.pi or e.xctr > 4 * np.pi:\n",
    "        v = 0\n",
    "        dv = 0\n",
    "    else:\n",
    "        v = np.sin(e.xctr)\n",
    "        dv = np.cos(e.xctr)\n",
    "    e.set_so0(0, v)\n",
    "    e.set_so1(0, dv)\n",
    "\n",
    "svr.setup_march()\n",
    "    \n",
    "for i in iterNum:\n",
    "    svr.march_alpha2(1)\n",
    "    exact_sol.append(ExactSolution(svr, i + 1, np.sin))\n",
    "    so0_sol.append(svr.get_so0(0).ndarray)"
   ]
  },
  {
   "cell_type": "markdown",
   "metadata": {},
   "source": [
    "1. $L^1-norm$"
   ]
  },
  {
   "cell_type": "code",
   "execution_count": null,
   "metadata": {},
   "outputs": [],
   "source": [
    "plot_err(so0_sol, exact_sol, 1)"
   ]
  },
  {
   "cell_type": "markdown",
   "metadata": {},
   "source": [
    "2. $L^2-norm$"
   ]
  },
  {
   "cell_type": "code",
   "execution_count": null,
   "metadata": {},
   "outputs": [],
   "source": [
    "plot_err(so0_sol, exact_sol, 2)"
   ]
  },
  {
   "cell_type": "markdown",
   "metadata": {},
   "source": [
    "3. $L^3-norm$"
   ]
  },
  {
   "cell_type": "code",
   "execution_count": null,
   "metadata": {},
   "outputs": [],
   "source": [
    "plot_err(so0_sol, exact_sol, 3)"
   ]
  },
  {
   "cell_type": "markdown",
   "metadata": {},
   "source": [
    "4. $L^4-norm$"
   ]
  },
  {
   "cell_type": "code",
   "execution_count": null,
   "metadata": {},
   "outputs": [],
   "source": [
    "plot_err(so0_sol, exact_sol, 4)"
   ]
  },
  {
   "cell_type": "markdown",
   "metadata": {},
   "source": [
    "5. $L^{25}-norm$"
   ]
  },
  {
   "cell_type": "code",
   "execution_count": null,
   "metadata": {},
   "outputs": [],
   "source": [
    "plot_err(so0_sol, exact_sol, 25)"
   ]
  },
  {
   "cell_type": "code",
   "execution_count": null,
   "metadata": {},
   "outputs": [],
   "source": []
  }
 ],
 "metadata": {
  "kernelspec": {
   "display_name": "Python 3",
   "language": "python",
   "name": "python3"
  },
  "language_info": {
   "codemirror_mode": {
    "name": "ipython",
    "version": 3
   },
   "file_extension": ".py",
   "mimetype": "text/x-python",
   "name": "python",
   "nbconvert_exporter": "python",
   "pygments_lexer": "ipython3",
   "version": "3.8.3"
  }
 },
 "nbformat": 4,
 "nbformat_minor": 4
}
